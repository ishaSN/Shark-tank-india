{
 "cells": [
  {
   "cell_type": "code",
   "execution_count": 186,
   "id": "c79494b3",
   "metadata": {},
   "outputs": [],
   "source": [
    "import pandas as pd\n",
    "import numpy as np\n",
    "import matplotlib.pyplot as plt\n",
    "import seaborn as sns"
   ]
  },
  {
   "cell_type": "code",
   "execution_count": 187,
   "id": "841e72c7",
   "metadata": {},
   "outputs": [],
   "source": [
    "data = pd.read_csv(\"ShartankIndiaAllPitches.csv\")"
   ]
  },
  {
   "cell_type": "code",
   "execution_count": 188,
   "id": "389031ad",
   "metadata": {},
   "outputs": [
    {
     "data": {
      "text/html": [
       "<div>\n",
       "<style scoped>\n",
       "    .dataframe tbody tr th:only-of-type {\n",
       "        vertical-align: middle;\n",
       "    }\n",
       "\n",
       "    .dataframe tbody tr th {\n",
       "        vertical-align: top;\n",
       "    }\n",
       "\n",
       "    .dataframe thead th {\n",
       "        text-align: right;\n",
       "    }\n",
       "</style>\n",
       "<table border=\"1\" class=\"dataframe\">\n",
       "  <thead>\n",
       "    <tr style=\"text-align: right;\">\n",
       "      <th></th>\n",
       "      <th>Episode Number</th>\n",
       "      <th>Pitch Number</th>\n",
       "      <th>Brand</th>\n",
       "      <th>Idea</th>\n",
       "      <th>Category</th>\n",
       "      <th>City</th>\n",
       "      <th>state</th>\n",
       "      <th>Investment Amount</th>\n",
       "      <th>Debt (In lakhs INR)</th>\n",
       "      <th>Equity</th>\n",
       "      <th>Anupam</th>\n",
       "      <th>Ashneer</th>\n",
       "      <th>Namita</th>\n",
       "      <th>Aman</th>\n",
       "      <th>Peyush</th>\n",
       "      <th>Vineeta</th>\n",
       "      <th>Ghazal</th>\n",
       "      <th>Season</th>\n",
       "    </tr>\n",
       "  </thead>\n",
       "  <tbody>\n",
       "    <tr>\n",
       "      <th>0</th>\n",
       "      <td>1</td>\n",
       "      <td>1</td>\n",
       "      <td>BluePine Industries</td>\n",
       "      <td>Frozen Momos</td>\n",
       "      <td>Food and beverages</td>\n",
       "      <td>Faridabad</td>\n",
       "      <td>Haryana</td>\n",
       "      <td>75</td>\n",
       "      <td>0</td>\n",
       "      <td>18%</td>\n",
       "      <td>N</td>\n",
       "      <td>Y</td>\n",
       "      <td>N</td>\n",
       "      <td>Y</td>\n",
       "      <td>N</td>\n",
       "      <td>Y</td>\n",
       "      <td>N</td>\n",
       "      <td>1</td>\n",
       "    </tr>\n",
       "    <tr>\n",
       "      <th>1</th>\n",
       "      <td>1</td>\n",
       "      <td>2</td>\n",
       "      <td>Booz scooters</td>\n",
       "      <td>Renting e-bike for mobility in private spaces</td>\n",
       "      <td>Automotive</td>\n",
       "      <td>Ahemdabad</td>\n",
       "      <td>Gujrat</td>\n",
       "      <td>40</td>\n",
       "      <td>0</td>\n",
       "      <td>50%</td>\n",
       "      <td>N</td>\n",
       "      <td>Y</td>\n",
       "      <td>N</td>\n",
       "      <td>N</td>\n",
       "      <td>N</td>\n",
       "      <td>Y</td>\n",
       "      <td>N</td>\n",
       "      <td>1</td>\n",
       "    </tr>\n",
       "    <tr>\n",
       "      <th>2</th>\n",
       "      <td>1</td>\n",
       "      <td>3</td>\n",
       "      <td>Heart up my Sleeves</td>\n",
       "      <td>Detachable Sleeves</td>\n",
       "      <td>Fashion</td>\n",
       "      <td>Delhi</td>\n",
       "      <td>Delhi</td>\n",
       "      <td>25</td>\n",
       "      <td>0</td>\n",
       "      <td>30%</td>\n",
       "      <td>Y</td>\n",
       "      <td>N</td>\n",
       "      <td>N</td>\n",
       "      <td>N</td>\n",
       "      <td>N</td>\n",
       "      <td>Y</td>\n",
       "      <td>N</td>\n",
       "      <td>1</td>\n",
       "    </tr>\n",
       "    <tr>\n",
       "      <th>3</th>\n",
       "      <td>2</td>\n",
       "      <td>4</td>\n",
       "      <td>Tagz Foods</td>\n",
       "      <td>Healthy Potato Chips</td>\n",
       "      <td>Food and beverages</td>\n",
       "      <td>Bengaluru</td>\n",
       "      <td>Karnataka</td>\n",
       "      <td>70</td>\n",
       "      <td>0</td>\n",
       "      <td>2.75%</td>\n",
       "      <td>N</td>\n",
       "      <td>Y</td>\n",
       "      <td>N</td>\n",
       "      <td>N</td>\n",
       "      <td>N</td>\n",
       "      <td>N</td>\n",
       "      <td>N</td>\n",
       "      <td>1</td>\n",
       "    </tr>\n",
       "    <tr>\n",
       "      <th>4</th>\n",
       "      <td>2</td>\n",
       "      <td>5</td>\n",
       "      <td>Head and Heart</td>\n",
       "      <td>Brain Development Course</td>\n",
       "      <td>Education</td>\n",
       "      <td>Patiala</td>\n",
       "      <td>Punjab</td>\n",
       "      <td>0</td>\n",
       "      <td>0</td>\n",
       "      <td>0</td>\n",
       "      <td>N</td>\n",
       "      <td>N</td>\n",
       "      <td>N</td>\n",
       "      <td>N</td>\n",
       "      <td>N</td>\n",
       "      <td>N</td>\n",
       "      <td>N</td>\n",
       "      <td>1</td>\n",
       "    </tr>\n",
       "  </tbody>\n",
       "</table>\n",
       "</div>"
      ],
      "text/plain": [
       "   Episode Number  Pitch Number                Brand  \\\n",
       "0               1             1  BluePine Industries   \n",
       "1               1             2        Booz scooters   \n",
       "2               1             3  Heart up my Sleeves   \n",
       "3               2             4           Tagz Foods   \n",
       "4               2             5       Head and Heart   \n",
       "\n",
       "                                            Idea            Category  \\\n",
       "0                                   Frozen Momos  Food and beverages   \n",
       "1  Renting e-bike for mobility in private spaces          Automotive   \n",
       "2                             Detachable Sleeves             Fashion   \n",
       "3                           Healthy Potato Chips  Food and beverages   \n",
       "4                       Brain Development Course           Education   \n",
       "\n",
       "        City      state  Investment Amount  Debt (In lakhs INR) Equity Anupam  \\\n",
       "0  Faridabad    Haryana                 75                    0    18%      N   \n",
       "1  Ahemdabad     Gujrat                 40                    0    50%      N   \n",
       "2      Delhi      Delhi                 25                    0    30%      Y   \n",
       "3  Bengaluru  Karnataka                 70                    0  2.75%      N   \n",
       "4    Patiala     Punjab                  0                    0      0      N   \n",
       "\n",
       "  Ashneer Namita Aman Peyush Vineeta Ghazal  Season  \n",
       "0       Y      N    Y      N       Y      N       1  \n",
       "1       Y      N    N      N       Y      N       1  \n",
       "2       N      N    N      N       Y      N       1  \n",
       "3       Y      N    N      N       N      N       1  \n",
       "4       N      N    N      N       N      N       1  "
      ]
     },
     "execution_count": 188,
     "metadata": {},
     "output_type": "execute_result"
    }
   ],
   "source": [
    "data.head()"
   ]
  },
  {
   "cell_type": "code",
   "execution_count": 189,
   "id": "f3ab0968",
   "metadata": {},
   "outputs": [
    {
     "data": {
      "text/plain": [
       "Food and beverages    34\n",
       "Fashion               10\n",
       "Healthcare             9\n",
       "Electronics            7\n",
       "Education              7\n",
       "Automotive             6\n",
       "SAAS                   5\n",
       "Cosmetics              3\n",
       "Shoes                  3\n",
       "entertaiment           3\n",
       "gifts and decor        2\n",
       "Agricuture             1\n",
       "RnD                    1\n",
       "Handicrafts            1\n",
       "safety                 1\n",
       "Wooden                 1\n",
       "packaging              1\n",
       "Construction           1\n",
       "Textile                1\n",
       "Animal care            1\n",
       "Saafety                1\n",
       "Metal                  1\n",
       "Sports                 1\n",
       "Water purification     1\n",
       "Safety                 1\n",
       "Gaming                 1\n",
       "Recylcing              1\n",
       "sports                 1\n",
       "Toiletries             1\n",
       "Toys                   1\n",
       "Insurance              1\n",
       "Tourism                1\n",
       "Cosmetcis              1\n",
       "Name: Category, dtype: int64"
      ]
     },
     "execution_count": 189,
     "metadata": {},
     "output_type": "execute_result"
    }
   ],
   "source": [
    "data['Category'].value_counts()"
   ]
  },
  {
   "cell_type": "code",
   "execution_count": 190,
   "id": "2057c1dd",
   "metadata": {},
   "outputs": [
    {
     "data": {
      "text/plain": [
       "Mumbai          21\n",
       "Bengaluru       14\n",
       "Pune            13\n",
       "Ahemdabad        6\n",
       "Kolkata          5\n",
       "Delhi            5\n",
       "Hyderabad        4\n",
       "gurugram         3\n",
       "New Delhi        3\n",
       "Chennai          2\n",
       "mumbai           2\n",
       "Noida            2\n",
       "Jaipur           2\n",
       "Latur            1\n",
       "Vasai            1\n",
       "New delhi        1\n",
       "Surat            1\n",
       "Coibatore        1\n",
       "Jalna            1\n",
       "Alappuzha        1\n",
       "Koci             1\n",
       "Chikhli          1\n",
       "Mathura          1\n",
       "Gurugram         1\n",
       "Jammu            1\n",
       "Kanpur           1\n",
       "Secunderabad     1\n",
       "Lucknow          1\n",
       "Panipat          1\n",
       "Gurgaon          1\n",
       "Vadodra          1\n",
       "Ghogali          1\n",
       "Dehradun         1\n",
       "Thane            1\n",
       "Faridabad        1\n",
       "Varanasi         1\n",
       "Darbhanga        1\n",
       "Patiala          1\n",
       "Madinagar        1\n",
       "Nagpur           1\n",
       "Hubli            1\n",
       "Taleigao         1\n",
       "Nashik           1\n",
       "Gandhinagar      1\n",
       "Pitampura        1\n",
       "Naranpura        1\n",
       "Valsad           1\n",
       "Name: City, dtype: int64"
      ]
     },
     "execution_count": 190,
     "metadata": {},
     "output_type": "execute_result"
    }
   ],
   "source": [
    "data['City'].value_counts()"
   ]
  },
  {
   "cell_type": "code",
   "execution_count": 180,
   "id": "a0ec3a56",
   "metadata": {},
   "outputs": [
    {
     "data": {
      "text/plain": [
       "Maharashtra        45\n",
       "Karnataka          14\n",
       "Gujrat             11\n",
       "Delhi              10\n",
       "Haryana             7\n",
       "Uttar Pradesh       7\n",
       "West Bengal         5\n",
       "Telangana           5\n",
       "Tamil Nadu          3\n",
       "Rajasthan           2\n",
       "Jammu n Kashmir     2\n",
       "Kerala              2\n",
       "Punjab              2\n",
       "Darbhanga           1\n",
       "Goa                 1\n",
       "Name: state, dtype: int64"
      ]
     },
     "execution_count": 180,
     "metadata": {},
     "output_type": "execute_result"
    }
   ],
   "source": [
    "data['state'].value_counts()"
   ]
  },
  {
   "cell_type": "code",
   "execution_count": 192,
   "id": "68dfb59f",
   "metadata": {},
   "outputs": [
    {
     "data": {
      "text/plain": [
       "state\n",
       "Darbhanga            0\n",
       "Delhi              160\n",
       "Goa                 75\n",
       "Gujrat             230\n",
       "Haryana            156\n",
       "Jammu n Kashmir     75\n",
       "Karnataka          405\n",
       "Kerala             110\n",
       "Maharashtra        770\n",
       "Punjab              50\n",
       "Rajasthan            0\n",
       "Tamil Nadu          50\n",
       "Telangana           71\n",
       "Uttar Pradesh      135\n",
       "West Bengal        250\n",
       "Name: Investment Amount, dtype: int64"
      ]
     },
     "execution_count": 192,
     "metadata": {},
     "output_type": "execute_result"
    }
   ],
   "source": [
    "data.groupby(\"state\")[\"Investment Amount\"].sum()"
   ]
  },
  {
   "cell_type": "code",
   "execution_count": 183,
   "id": "39c91292",
   "metadata": {},
   "outputs": [
    {
     "data": {
      "image/png": "[encoded data removed]",
      "text/plain": [
       "<Figure size 864x432 with 1 Axes>"
      ]
     },
     "metadata": {
      "needs_background": "light"
     },
     "output_type": "display_data"
    }
   ],
   "source": [
    "plt.figure(figsize=(12,6))\n",
    "data = data.state.value_counts()\n",
    "sns.barplot(y = data.index, x = data, orient='h')\n",
    "plt.show()"
   ]
  },
  {
   "cell_type": "code",
   "execution_count": null,
   "id": "b75e219a",
   "metadata": {},
   "outputs": [],
   "source": []
  },
  {
   "cell_type": "code",
   "execution_count": null,
   "id": "7a9a588b",
   "metadata": {},
   "outputs": [],
   "source": []
  },
  {
   "cell_type": "code",
   "execution_count": null,
   "id": "8870040e",
   "metadata": {},
   "outputs": [],
   "source": []
  },
  {
   "cell_type": "code",
   "execution_count": null,
   "id": "4a4bf488",
   "metadata": {},
   "outputs": [],
   "source": []
  }
 ],
 "metadata": {
  "kernelspec": {
   "display_name": "Python 3",
   "language": "python",
   "name": "python3"
  },
  "language_info": {
   "codemirror_mode": {
    "name": "ipython",
    "version": 3
   },
   "file_extension": ".py",
   "mimetype": "text/x-python",
   "name": "python",
   "nbconvert_exporter": "python",
   "pygments_lexer": "ipython3",
   "version": "3.8.8"
  }
 },
 "nbformat": 4,
 "nbformat_minor": 5
}
